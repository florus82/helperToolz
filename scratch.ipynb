{
 "cells": [
  {
   "cell_type": "code",
   "execution_count": 1,
   "id": "9ba025ad",
   "metadata": {},
   "outputs": [],
   "source": [
    "import sys\n",
    "sys.path.append('/home/potzschf/repos/')\n",
    "from helperToolz.helpsters import *\n",
    "from helperToolz.dicts_and_lists import *\n",
    "from helperToolz.guzinski import * \n",
    "from helperToolz.mirmazloumi import *\n",
    "import numpy as np\n",
    "from osgeo import gdal, osr\n",
    "from datetime import datetime, timezone\n",
    "import re\n",
    "import pandas as pd\n",
    "import pvlib\n",
    "from pvlib import solarposition\n",
    "from pvlib.irradiance import get_total_irradiance\n",
    "from pvlib.location import Location\n",
    "from scipy.interpolate import NearestNDInterpolator\n"
   ]
  },
  {
   "cell_type": "code",
   "execution_count": 2,
   "id": "4882b00c",
   "metadata": {},
   "outputs": [
    {
     "name": "stdout",
     "output_type": "stream",
     "text": [
      "temperature will be processed before surface pressure - continue\n"
     ]
    }
   ],
   "source": [
    "# set the year, month and day to estimate evapotranspiration for\n",
    "from re import T\n",
    "\n",
    "\n",
    "year = 2019\n",
    "month = 'July'\n",
    "day = 19\n",
    "comp = 'maxLST'\n",
    "sharp = 'allpred'\n",
    "\n",
    "# set output path\n",
    "tempOut = '/data/Aldhani/eoagritwin/et/Auxiliary/trash/'\n",
    "\n",
    "# set the parameters from sharpener\n",
    "mvwin = 15\n",
    "cv = 0\n",
    "regrat = 25\n",
    "s2_masked = True\n",
    "lst_masked = True\n",
    "\n",
    "if s2_masked:\n",
    "    s2Mask = 'S2Masked'\n",
    "else:\n",
    "    s2Mask = 'S2notMasked'\n",
    "\n",
    "if lst_masked:\n",
    "    lstMask = 'withLSTmask'\n",
    "else:\n",
    "    lstMask = 'withoutLSTmask'\n",
    "\n",
    "# path to era5 raw data\n",
    "era5_path = '/data/Aldhani/eoagritwin/et/Auxiliary/ERA5/grib/'\n",
    "ssrd_mean_path = '/data/Aldhani/eoagritwin/et/Auxiliary/ERA5/ssrd_mean_calc/'\n",
    "\n",
    "# path_base to sharpenend folder and S2_comp\n",
    "\n",
    "sharp_pathbase = f'/data/Aldhani/eoagritwin/et/Sentinel3/LST/LST_values/sharpened3/{sharp}/bccec09fdbc7a94b5e2bd6c125d9d1174c2509360a2ce529f48e3512655454b5/{comp}/{year}/{month}/{day:02d}/{lstMask}/{s2Mask}/Values/'\n",
    "s2_pathbase = f'/data/Aldhani/eoagritwin/et/Sentinel3/LST/LST_values/tempDump3/bccec09fdbc7a94b5e2bd6c125d9d1174c2509360a2ce529f48e3512655454b5/'\n",
    "# sharp_pathbase = f'/data/Aldhani/eoagritwin/et/Sentinel3/LST/LST_values/sharpened2/{sharp}/ff3f2c872c08977466e5a8dc306d2d2aabc77ad995b0716c30d1c57d0004ebfd/{comp}/{year}/{month}/{day:02d}/{lstMask}/{s2Mask}/Values/'\n",
    "# s2_pathbase = f'/data/Aldhani/eoagritwin/et/Sentinel3/LST/LST_values/tempDump2/ff3f2c872c08977466e5a8dc306d2d2aabc77ad995b0716c30d1c57d0004ebfd/'\n",
    "\n",
    "# the LST acquisition time should determine which sharpened LST files are associatedto be processed (as they are associated with it)\n",
    "LST_acq_file = f'/data/Aldhani/eoagritwin/et/Sentinel3/LST/LST_values/Acq_time/int_format/{year}/Daily_AcqTime_{comp}_{year}_{month}.tif' # epsg 4326\n",
    "\n",
    "# the VZA at the time of LST acquisition is need\n",
    "VZA_at_acq_file = f'/data/Aldhani/eoagritwin/et/Sentinel3/VZA/comp/{comp}/{year}/Daily_VZA_{comp}_{year}_{month}.tif' # epsg 4326\n",
    "\n",
    "# the DEM, SLOPE, ASPECT, LAT, LON will be used to sharpen some of the era5 variables (the the resolution of the DEM)\n",
    "dem_path = '/data/Aldhani/eoagritwin/et/Auxiliary/DEM/reprojected/DEM_GER_FORCE_WARP.tif' # epsg 4326\n",
    "slope_path = '/data/Aldhani/eoagritwin/et/Auxiliary/DEM/reprojected/SLOPE_GER_FORCE_WARP.tif' # epsg 4326\n",
    "aspect_path = '/data/Aldhani/eoagritwin/et/Auxiliary/DEM/reprojected/ASPECT_GER_FORCE_WARP.tif' # epsg 4326\n",
    "lat_path = '/data/Aldhani/eoagritwin/et/Auxiliary/DEM/reprojected/LAT_GER_FORCE_WARP.tif' # epsg 4326\n",
    "lon_path = '/data/Aldhani/eoagritwin/et/Auxiliary/DEM/reprojected/LON_GER_FORCE_WARP.tif' # epsg 4326\n",
    "\n",
    "# the geopotential is needed for the sharpening as well\n",
    "geopot_path = '/data/Aldhani/eoagritwin/et/Auxiliary/ERA5/tiff/low_res/geopotential/geopotential_low_res.tif' # epsg 4326\n",
    "\n",
    "# sharpened LST\n",
    "LST_file = f'{sharp_pathbase}{comp}_{year}_{month}_{day:02d}_mvwin{mvwin}_cv{cv}_regrat{regrat}_{s2Mask}_{lstMask}.tif' # epsg:3035\n",
    "\n",
    "# for NDVI calculation (estimating LAI and others) and warping to S2 resolution, we use the S2 composite used for sharpening\n",
    "# S2_file = [file for file in getFilelist(s2_pathbase, 'vrt', deep=False) if f'HIGHRES_{comp}_{year}_{month}_{day:02d}' in file][0]\n",
    "S2_file = [file for file in getFilelist(s2_pathbase, 'vrt', deep=True) if 'S2' in file][0]\n",
    "\n",
    "# find era5 file that matches the month of LST observation\n",
    "valid_variables = sorted(list(dict.fromkeys(file.split('/')[-2] for file in getFilelist(era5_path, '.grib', deep=True) \\\n",
    "                                   if not any(var in file for var in ['geopotential', 'total_column_water_vapour']))))\n",
    "\n",
    "# get a list for those era5 files that match the year and month of the provided LST acquisition file\n",
    "era5_path_list = find_grib_file(getFilelist(era5_path, '.grib', deep=True), LST_acq_file)\n",
    "era5_path_list = [path for path in era5_path_list if any(variable in path for variable in valid_variables)] # era5 are epsg 4326 and still will be after warping to doy\n",
    "temp_pressure_checker(era5_path_list)"
   ]
  },
  {
   "cell_type": "code",
   "execution_count": 3,
   "id": "872fd83d",
   "metadata": {},
   "outputs": [
    {
     "name": "stderr",
     "output_type": "stream",
     "text": [
      "/data/Aldhani/users/potzschf/conda/envs/cds_era5/lib/python3.12/site-packages/osgeo/gdal.py:311: FutureWarning: Neither gdal.UseExceptions() nor gdal.DontUseExceptions() has been explicitly called. In GDAL 4.0, exceptions will be enabled by default.\n",
      "  warnings.warn(\n"
     ]
    }
   ],
   "source": [
    "# warp datasets needed for calculations to the spatial extent of the sharpened LST\n",
    "LST_acq_spatial_sub = warp_raster_to_reference(source_path=LST_acq_file, reference_path=S2_file, output_path='MEM', resampling='near')\n",
    "VZA_at_acq_file_sub = warp_raster_to_reference(source_path=VZA_at_acq_file, reference_path=S2_file, output_path='MEM', resampling='near')\n",
    "dem_sub = warp_raster_to_reference(source_path=dem_path, reference_path=S2_file, output_path='MEM', resampling='bilinear')\n",
    "slope_sub  = warp_raster_to_reference(source_path=slope_path, reference_path=S2_file, output_path='MEM', resampling='bilinear')\n",
    "aspect_sub = warp_raster_to_reference(source_path=aspect_path, reference_path=S2_file, output_path='MEM', resampling='bilinear')\n",
    "lat_sub = warp_raster_to_reference(source_path=lat_path, reference_path=S2_file, output_path='MEM', resampling='bilinear')\n",
    "lon_sub = warp_raster_to_reference(source_path=lon_path, reference_path=S2_file, output_path='MEM', resampling='bilinear')\n",
    "geopot_sub = warp_raster_to_reference(source_path=geopot_path, reference_path=S2_file, output_path='MEM', resampling='bilinear')"
   ]
  },
  {
   "cell_type": "code",
   "execution_count": 5,
   "id": "251b9e2e",
   "metadata": {},
   "outputs": [
    {
     "name": "stderr",
     "output_type": "stream",
     "text": [
      "/tmp/ipykernel_2383201/101517954.py:57: RuntimeWarning: All-NaN slice encountered\n",
      "  ssrd_watt = np.nanmax(block, axis = 2)\n"
     ]
    }
   ],
   "source": [
    "path_to_ssrdsc_grib = era5_path_list[-1]\n",
    "reference_path = LST_acq_spatial_sub\n",
    "lst_acq_file = LST_acq_spatial_sub\n",
    "doy = day\n",
    "slope_path = slope_sub\n",
    "aspect_path = aspect_sub\n",
    "dem_path = dem_sub\n",
    "lat_path = lat_sub\n",
    "lon_path = lon_sub\n",
    "\n",
    "outPath='MEM'\n",
    "bandL='ALL'\n",
    "nodat =None\n",
    "   \n",
    "\n",
    "era_ds = warp_ERA5_to_reference(grib_path=path_to_ssrdsc_grib, reference_path=reference_path, output_path=outPath, NoData=nodat)\n",
    "\n",
    "\n",
    "bandNumber = era_ds.RasterCount\n",
    "era_time = [pd.Timestamp(era_ds.GetRasterBand(i+1).GetDescription()) for i in range(bandNumber)]\n",
    "\n",
    "# open and load the acquisition raster from LST\n",
    "LST_acq_ds = checkPath(lst_acq_file)\n",
    "arr = LST_acq_ds.GetRasterBand(doy).ReadAsArray()\n",
    "arr = arr.astype(np.int64)\n",
    "arr_flat = arr.ravel()\n",
    "arr_ts = pd.to_datetime(arr_flat, unit='s')\n",
    "arr_up = pd.Series(arr_ts).dt.ceil('h')\n",
    "arr_up = arr_up.values.reshape(arr.shape)\n",
    "arr_min = pd.Series(arr_ts).dt.minute\n",
    "arr_min = arr_min.values.reshape(arr.shape)\n",
    "\n",
    "# get the relevant bands of era5 dataset (i.e. those bands, that reflect the upper and lower )\n",
    "bands = []\n",
    "for d1 in np.unique(arr_up):\n",
    "    for count, e5 in enumerate(era_time):\n",
    "        if d1 == e5:\n",
    "            bands.append(count)\n",
    "# load the era5 variable acquisition-wise into 2D numpy array \n",
    "# load the era5 variable acquisition-wise into 2D numpy array \n",
    "arrL = []\n",
    "for b in bands: \n",
    "    # compare the time of LST composite with \n",
    "    mask = arr_up == era_time[b]\n",
    "    # load the band that holds the observation just after LST acquisition\n",
    "    after = era_ds.GetRasterBand(b).ReadAsArray()\n",
    "    # load the band that holds the observation just prior to LST acquisition\n",
    "    before = era_ds.GetRasterBand(b-1).ReadAsArray()\n",
    "    # calculate the linearly interpolated values at the minute of acquisition\n",
    "    vals_interpolated = before - (before - after) * (np.array(arr_min, dtype=np.float16) / 60) # in J/m²\n",
    "    # convert to W/m²\n",
    "    vals_watt = vals_interpolated /3600\n",
    "    arrL.append(vals_watt * mask)\n",
    "block = np.dstack(arrL)\n",
    "\n",
    "block[block == 0] = np.nan\n",
    "ssrd_watt = np.nanmax(block, axis = 2)\n",
    "\n",
    "# make a mask of the nan values, as the output of pvlib.irradiance.get_total_irradiance does skip them which hinders rebuild to 2D\n",
    "valid_mask = np.isfinite(ssrd_watt)\n",
    "arr_ts_masked = arr_ts[valid_mask.ravel()]\n",
    "\n",
    "# load slope, aspect, lat, lon, dem\n",
    "ds = checkPath(slope_path)\n",
    "slope = ds.GetRasterBand(1).ReadAsArray()\n",
    "slope_flat = slope.ravel()\n",
    "slope_flat_masked = slope_flat[valid_mask.ravel()]\n",
    "\n",
    "ds = checkPath(aspect_path)\n",
    "aspect = ds.GetRasterBand(1).ReadAsArray()\n",
    "aspect_flat = aspect.ravel()\n",
    "aspect_flat_masked = aspect_flat[valid_mask.ravel()]\n",
    "\n",
    "ds = checkPath(dem_path)\n",
    "dem = ds.GetRasterBand(1).ReadAsArray()\n",
    "dem_flat = dem.ravel()\n",
    "dem_flat_masked = dem_flat[valid_mask.ravel()]\n",
    "\n",
    "ds = checkPath(lat_path)\n",
    "lat = ds.GetRasterBand(1).ReadAsArray()\n",
    "lat_flat = lat.ravel()\n",
    "lat_flat_masked = lat_flat[valid_mask.ravel()]\n",
    "\n",
    "ds = checkPath(lon_path)\n",
    "lon = ds.GetRasterBand(1).ReadAsArray()\n",
    "lon_flat = lon.ravel()\n",
    "lon_flat_masked = lon_flat[valid_mask.ravel()]\n",
    "\n",
    "# get solar viewing conditions for acquisition time\n",
    "site = Location(lat_flat_masked, lon_flat_masked, altitude=dem_flat_masked, tz='UTC')\n",
    "solpos = site.get_solarposition(arr_ts_masked)\n",
    "\n",
    "# calculate extraterrestrial radiation (horizontal)\n",
    "dni_extra = pvlib.irradiance.get_extra_radiation(arr_ts_masked)\n",
    "\n",
    "# Compute clearness index\n",
    "ssrd_watt_flat = ssrd_watt.ravel()\n",
    "ssrd_watt_flat_masked = ssrd_watt_flat[valid_mask.ravel()]\n",
    "ghi = ssrd_watt_flat_masked\n",
    "cos_zenith = np.cos(np.radians(solpos['zenith'].values[0]))\n",
    "ghi_clear = dni_extra.values[0] * cos_zenith\n",
    "kt = ghi / ghi_clear\n",
    "\n",
    "# Decompose GHI to DNI and DHI using Erbs model\n",
    "dni, dhi = pvlib.irradiance.erbs(ghi, solpos['zenith'], arr_ts_masked)['dni'], \\\n",
    "        pvlib.irradiance.erbs(ghi, solpos['zenith'], arr_ts_masked)['dhi']\n",
    "\n",
    "# compute radiation on the tilted terrain\n",
    "\n",
    "irradiance_tilted = get_total_irradiance(\n",
    "    surface_tilt=slope_flat_masked,\n",
    "    surface_azimuth=aspect_flat_masked,\n",
    "    dni=dni,\n",
    "    ghi=ghi,\n",
    "    dhi=dhi,\n",
    "    solar_zenith=solpos['zenith'],\n",
    "    solar_azimuth=solpos['azimuth']\n",
    ")\n",
    "\n",
    "\n",
    "# bring back to 2D\n",
    "poa_global_arr = np.full(slope.shape, np.nan)\n",
    "poa_global_arr[valid_mask] = irradiance_tilted['poa_global']\n",
    "\n",
    "\n",
    "zenith_arr = np.full(slope.shape, np.nan)\n",
    "zenith_arr[valid_mask] = solpos['zenith'].to_numpy()\n",
    "\n",
    "azimuth_arr = np.full(slope.shape, np.nan)\n",
    "azimuth_arr[valid_mask] = solpos['azimuth'].to_numpy()\n",
    "\n",
    "# calculate also the daily ssrd mean \n",
    "meanL = []\n",
    "for count, e5 in enumerate(era_time):\n",
    "    if e5.day == doy:\n",
    "        ssrd_hour = era_ds.GetRasterBand(count).ReadAsArray()\n",
    "        if np.sum(ssrd_hour) == 0:\n",
    "            continue\n",
    "        else:\n",
    "            time_hour = np.full((len(lat_flat_masked),), e5)\n",
    "            # get solar viewing conditions for acquisition time\n",
    "            \n",
    "            solpos = solarposition.get_solarposition(\n",
    "                time=time_hour,       # vector of timestamps\n",
    "                latitude=lat_flat_masked, # vector of latitudes (same length as time or broadcastable)\n",
    "                longitude=lon_flat_masked,\n",
    "                altitude=dem_flat_masked\n",
    "            )\n",
    "\n",
    "                        # Compute clearness index\n",
    "            ghi = ssrd_hour / 3600\n",
    "            ghi_masked = ghi[valid_mask]\n",
    "            # Decompose GHI to DNI and DHI using Erbs model\n",
    "            dni_dhi = pvlib.irradiance.erbs(ghi_masked.ravel(), solpos['zenith'], e5)\n",
    "            dni, dhi = dni_dhi['dni'], dni_dhi['dhi']\n",
    "\n",
    "            # compute radiation on the tilted terrain\n",
    "            irradiance_tilted = get_total_irradiance(\n",
    "            surface_tilt=slope_flat_masked,\n",
    "            surface_azimuth=aspect_flat_masked,\n",
    "            dni=dni,\n",
    "            ghi=ghi_masked.ravel(),\n",
    "            dhi=dhi,\n",
    "            solar_zenith=solpos['zenith'],\n",
    "            solar_azimuth=solpos['azimuth']\n",
    "            )\n",
    "\n",
    "            # put back into raster shape\n",
    "            irr_2D = np.full(slope.shape, np.nan)\n",
    "            irr_2D[valid_mask] = irradiance_tilted['poa_global']\n",
    "            meanL.append(irr_2D)"
   ]
  },
  {
   "cell_type": "code",
   "execution_count": null,
   "id": "85754958",
   "metadata": {},
   "outputs": [],
   "source": []
  },
  {
   "cell_type": "code",
   "execution_count": null,
   "id": "834f96f2",
   "metadata": {},
   "outputs": [],
   "source": []
  },
  {
   "cell_type": "code",
   "execution_count": null,
   "id": "d85dfb46",
   "metadata": {},
   "outputs": [],
   "source": []
  },
  {
   "cell_type": "code",
   "execution_count": 7,
   "id": "006b32b9",
   "metadata": {},
   "outputs": [
    {
     "data": {
      "image/png": "[encoded data removed]",
      "text/plain": [
       "<Figure size 500x500 with 1 Axes>"
      ]
     },
     "metadata": {},
     "output_type": "display_data"
    }
   ],
   "source": [
    "\n",
    "\n",
    "plotter(arr)\n"
   ]
  },
  {
   "cell_type": "code",
   "execution_count": 16,
   "id": "eaff9ddf",
   "metadata": {},
   "outputs": [
    {
     "name": "stderr",
     "output_type": "stream",
     "text": [
      "/tmp/ipykernel_2383201/4120794974.py:2: RuntimeWarning: Mean of empty slice\n",
      "  bb = np.nanmean(np.dstack(meanL), axis = 2)\n"
     ]
    },
    {
     "data": {
      "image/png": "[encoded data removed]",
      "text/plain": [
       "<Figure size 1200x500 with 4 Axes>"
      ]
     },
     "metadata": {},
     "output_type": "display_data"
    }
   ],
   "source": [
    "aa = np.nansum(np.dstack(meanL), axis=2) / 24\n",
    "bb = np.nanmean(np.dstack(meanL), axis = 2)\n",
    "\n",
    "plotter_side_by_side(aa,bb)\n"
   ]
  },
  {
   "cell_type": "code",
   "execution_count": null,
   "id": "399a9d49",
   "metadata": {},
   "outputs": [],
   "source": [
    "ssrd_mean = np.nansum(np.dstack(meanL), axis=2) / 24 # np.nanmean(np.dstack(meanL), axis = 2)\n",
    "ssrd_mean = ssrd_mean.reshape(slope.shape)"
   ]
  },
  {
   "cell_type": "code",
   "execution_count": 15,
   "id": "94567c11",
   "metadata": {},
   "outputs": [
    {
     "data": {
      "text/plain": [
       "array([[         nan,          nan,          nan, ...,          nan,\n",
       "                 nan,          nan],\n",
       "       [         nan,          nan,          nan, ...,          nan,\n",
       "                 nan,          nan],\n",
       "       [309.7614143 , 312.26089882, 310.60927122, ...,          nan,\n",
       "                 nan,          nan],\n",
       "       ...,\n",
       "       [309.93856265, 309.52197677, 308.3805522 , ...,          nan,\n",
       "                 nan,          nan],\n",
       "       [309.61397562, 308.42784911, 306.67310483, ...,          nan,\n",
       "                 nan,          nan],\n",
       "       [308.35979251, 307.86897089, 306.03430301, ...,          nan,\n",
       "                 nan,          nan]], shape=(1500, 1500))"
      ]
     },
     "execution_count": 15,
     "metadata": {},
     "output_type": "execute_result"
    }
   ],
   "source": [
    "aa"
   ]
  }
 ],
 "metadata": {
  "kernelspec": {
   "display_name": "cds_era5",
   "language": "python",
   "name": "python3"
  },
  "language_info": {
   "codemirror_mode": {
    "name": "ipython",
    "version": 3
   },
   "file_extension": ".py",
   "mimetype": "text/x-python",
   "name": "python",
   "nbconvert_exporter": "python",
   "pygments_lexer": "ipython3",
   "version": "3.12.11"
  }
 },
 "nbformat": 4,
 "nbformat_minor": 5
}
