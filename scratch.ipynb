{
 "cells": [
  {
   "cell_type": "code",
   "execution_count": 1,
   "id": "9ba025ad",
   "metadata": {},
   "outputs": [],
   "source": [
    "import sys\n",
    "sys.path.append('/home/potzschf/repos/')\n",
    "from helperToolz.helpsters import *\n",
    "from helperToolz.evapo import *"
   ]
  },
  {
   "cell_type": "code",
   "execution_count": null,
   "id": "7621e813",
   "metadata": {},
   "outputs": [
    {
     "name": "stdout",
     "output_type": "stream",
     "text": [
      "0\n"
     ]
    }
   ],
   "source": []
  },
  {
   "cell_type": "code",
   "execution_count": null,
   "id": "8fc71c5b",
   "metadata": {},
   "outputs": [],
   "source": [
    "def getBluGrnRedBnrFORCEList(filelist):\n",
    "    '''Takes a list of paths to an exploded FORCE output and returns a list with ordered paths\n",
    "    First all blue then green, red and bnir bands. Furthermore, paths are chronologically sorted (1,2,3,4..months)'''\n",
    "    blu = [file for file in filelist if file.split('SEN2H_')[-1].split('_')[0] == 'BLU']\n",
    "    grn = [file for file in filelist if file.split('SEN2H_')[-1].split('_')[0] == 'GRN']\n",
    "    red = [file for file in filelist if file.split('SEN2H_')[-1].split('_')[0] == 'RED']\n",
    "    bnr = [file for file in filelist if file.split('SEN2H_')[-1].split('_')[0] == 'BNR']\n",
    "\n",
    "    blu = sortListwithOtherlist([int(t.split('-')[-1].split('.')[0]) for t in blu], blu)[-1]\n",
    "    grn = sortListwithOtherlist([int(t.split('-')[-1].split('.')[0]) for t in grn], grn)[-1]\n",
    "    red = sortListwithOtherlist([int(t.split('-')[-1].split('.')[0]) for t in red], red)[-1]\n",
    "    bnr = sortListwithOtherlist([int(t.split('-')[-1].split('.')[0]) for t in bnr], bnr)[-1]\n",
    "\n",
    "    return sum([blu, grn, red, bnr], [])"
   ]
  },
  {
   "cell_type": "code",
   "execution_count": null,
   "id": "73fc0426",
   "metadata": {},
   "outputs": [],
   "source": [
    "def getExplodedFORCEbyColorAndTime(fileList, colorList, timeList=None):\n",
    "    \"\"\"This function help to order paths of FORCEfiles according to a list of color, e.g. ['BLU', 'GRN',...]\n",
    "    Furthermore, output will be sorted against a list of time, if provided\n",
    "\n",
    "    Args:\n",
    "        fileList (list): a list of paths to exploded FORCE output\n",
    "        colorList (list): a list of the colors to group the output by\n",
    "    \"\"\"\n",
    "\n",
    "color_pattern = rf'_{target_color}_'\n",
    "\n"
   ]
  },
  {
   "cell_type": "code",
   "execution_count": 4,
   "id": "fdd8cf8d",
   "metadata": {},
   "outputs": [
    {
     "name": "stdout",
     "output_type": "stream",
     "text": [
      "['/data/Aldhani/eoagritwin/force/output/Guzinski/1TileTest/X0067_Y0042/20190101-20191231_001-365_HL_TSA_SEN2L_BNR_TSI_20190630.tif', '/data/Aldhani/eoagritwin/force/output/Guzinski/1TileTest/X0068_Y0042/20190101-20191231_060-310_HL_TSA_SEN2L_BNR_TSI_20190630.tif']\n"
     ]
    }
   ],
   "source": [
    "fileList=['/data/Aldhani/eoagritwin/force/output/Guzinski/1TileTest/X0068_Y0042/20190101-20191231_060-310_HL_TSA_SEN2L_BLU_TSI_20190630.tif',\n",
    " '/data/Aldhani/eoagritwin/force/output/Guzinski/1TileTest/X0067_Y0042/20190101-20191231_001-365_HL_TSA_SEN2L_BNR_TSI_20190630.tif',\n",
    " '/data/Aldhani/eoagritwin/force/output/Guzinski/1TileTest/X0068_Y0042/20190101-20191231_060-310_HL_TSA_SEN2L_BNR_TSI_20190630.tif',\n",
    " '/data/Aldhani/eoagritwin/force/output/Guzinski/1TileTest/X0067_Y0042/20190101-20191231_001-365_HL_TSA_SEN2L_GRN_TSI_20190630.tif',\n",
    " '/data/Aldhani/eoagritwin/force/output/Guzinski/1TileTest/X0068_Y0042/20190101-20191231_060-310_HL_TSA_SEN2L_GRN_TSI_20190630.tif',\n",
    " '/data/Aldhani/eoagritwin/force/output/Guzinski/1TileTest/X0067_Y0042/20190101-20191231_001-365_HL_TSA_SEN2L_RE1_TSI_20190630.tif']\n",
    "\n",
    "colorList=['BNR']\n",
    "\n",
    "for target_color in colorList:\n",
    "    search_pattern = rf'_{target_color}_'\n",
    "\n",
    "    print([file for file in fileList if re.search(search_pattern, file)])"
   ]
  },
  {
   "cell_type": "code",
   "execution_count": 52,
   "id": "ce12996e",
   "metadata": {},
   "outputs": [
    {
     "name": "stdout",
     "output_type": "stream",
     "text": [
      "2755\n"
     ]
    }
   ],
   "source": [
    "a =random.randint(0,9999)\n",
    "print(f'{a:04d}')"
   ]
  }
 ],
 "metadata": {
  "kernelspec": {
   "display_name": "workhorse",
   "language": "python",
   "name": "python3"
  },
  "language_info": {
   "codemirror_mode": {
    "name": "ipython",
    "version": 3
   },
   "file_extension": ".py",
   "mimetype": "text/x-python",
   "name": "python",
   "nbconvert_exporter": "python",
   "pygments_lexer": "ipython3",
   "version": "3.12.11"
  }
 },
 "nbformat": 4,
 "nbformat_minor": 5
}
